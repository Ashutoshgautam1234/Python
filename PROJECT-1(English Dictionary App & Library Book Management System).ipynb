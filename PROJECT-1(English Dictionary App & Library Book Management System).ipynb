{
 "cells": [
  {
   "cell_type": "markdown",
   "id": "191acffe",
   "metadata": {},
   "source": [
    "# 1A: English Dictionary App"
   ]
  },
  {
   "cell_type": "code",
   "execution_count": 7,
   "id": "2ba36e69",
   "metadata": {},
   "outputs": [],
   "source": [
    "import json\n",
    "\n",
    "# Function to display the main menu options\n",
    "def display_menu():\n",
    "    print(\"Main Menu\")\n",
    "    print(\"1. Add a new word\")\n",
    "    print(\"2. Find the meaning\")\n",
    "    print(\"3. Update a word\")\n",
    "    print(\"4. Exit\")\n",
    "dictionary = {}\n",
    "# Function to add a new word and its meaning to the dictionary\n",
    "def add_word(dictionary):\n",
    "    word = input(\"Enter the word: \")\n",
    "    meaning = input(\"Enter the meaning: \")\n",
    "    dictionary[word] = meaning\n",
    "    save_dictionary(dictionary)\n",
    "    print(\"Word added successfully!\")\n",
    "\n",
    "# Function to find the meaning of a word from the dictionary\n",
    "def find_meaning(dictionary):\n",
    "    f = open('words.txt','r')\n",
    "    dictionary = json.load(f)\n",
    "    word = input(\"Enter the word to find its meaning: \")\n",
    "    if word in dictionary:\n",
    "        print(f\"Meaning: {dictionary[word]}\")\n",
    "    else:\n",
    "        print(\"Word not found!\")\n",
    "        json.dump(dictionary,f)\n",
    "        f.close()\n",
    "\n",
    "# Function to update the meaning of a word in the dictionary\n",
    "def update_word(dictionary):\n",
    "    word = input(\"Enter the word to update its meaning: \")\n",
    "    updated_meaning = input(\"Enter the updated meaning\")\n",
    "    f = open(\"words.txt\",'r')\n",
    "    dictionary = json.load(f)\n",
    "    \n",
    "    dictionary[word] = updated_meaning\n",
    "    \n",
    "    save_dictionary(dictionary)\n",
    "    print(\"Word updated successfully!\")\n",
    "    \n",
    "\n",
    "# Function to save the dictionary to a file using serialization\n",
    "def save_dictionary(dictionary):\n",
    "    file = open(\"words.txt\", \"w\")\n",
    "    json.dump(dictionary, file)\n",
    "    file.close()"
   ]
  },
  {
   "cell_type": "code",
   "execution_count": 8,
   "id": "f946b395",
   "metadata": {},
   "outputs": [
    {
     "name": "stdout",
     "output_type": "stream",
     "text": [
      "Main Menu\n",
      "1. Add a new word\n",
      "2. Find the meaning\n",
      "3. Update a word\n",
      "4. Exit\n",
      "Enter choice: 3\n",
      "Enter the word to update its meaning: ashu\n",
      "Enter the updated meaninghy\n",
      "Word updated successfully!\n",
      "Main Menu\n",
      "1. Add a new word\n",
      "2. Find the meaning\n",
      "3. Update a word\n",
      "4. Exit\n",
      "Enter choice: 2\n",
      "Enter the word to find its meaning: ashu\n",
      "Meaning: hy\n",
      "Main Menu\n",
      "1. Add a new word\n",
      "2. Find the meaning\n",
      "3. Update a word\n",
      "4. Exit\n",
      "Enter choice: 4\n",
      "Exiting...\n"
     ]
    }
   ],
   "source": [
    "# Main program loop\n",
    "while True:\n",
    "    display_menu()\n",
    "    choice = input(\"Enter choice: \")\n",
    "\n",
    "    if choice == '1':\n",
    "        add_word(dictionary)\n",
    "    elif choice == '2':\n",
    "        find_meaning(dictionary)\n",
    "    elif choice == '3':\n",
    "        update_word(dictionary)\n",
    "    elif choice == '4':\n",
    "        save_dictionary(dictionary)\n",
    "        print(\"Exiting...\")\n",
    "        break\n",
    "    else:\n",
    "        print(\"Invalid choice! Please try again.\")"
   ]
  },
  {
   "cell_type": "code",
   "execution_count": 9,
   "id": "0e3c660c",
   "metadata": {},
   "outputs": [
    {
     "name": "stdout",
     "output_type": "stream",
     "text": [
      "male\n"
     ]
    }
   ],
   "source": [
    "dictionary = {'ashu':'male'}\n",
    "print(dictionary['ashu'])"
   ]
  },
  {
   "cell_type": "code",
   "execution_count": null,
   "id": "ae5c82ff",
   "metadata": {},
   "outputs": [],
   "source": [
    "#import json"
   ]
  },
  {
   "cell_type": "code",
   "execution_count": 10,
   "id": "2eecfce0",
   "metadata": {},
   "outputs": [
    {
     "name": "stdout",
     "output_type": "stream",
     "text": [
      "{'name': 'ashu', 'age': 24}\n"
     ]
    }
   ],
   "source": [
    "#json_data = '{\"name\":\"ashu\",\"age\":24}'\n",
    "#python_data = json.loads(json_data)\n",
    "#print(python_data)"
   ]
  },
  {
   "cell_type": "markdown",
   "id": "e0662912",
   "metadata": {},
   "source": [
    "# 1B: Library Book Management System"
   ]
  },
  {
   "cell_type": "markdown",
   "id": "81d3b2e5",
   "metadata": {},
   "source": [
    "In this project, a Library Book Management System will be implemented with the front end GUI developed using Tkinter and the backend database implemented in SQLite. It is a single window tkinter GUI application which will implement CRUD( create, read, update, delete) operations on a ‘books’ database, in SQLite. The window will contain text widgets to accept / display book title, author, year of publication, ISBN (optional) and a large text area/ list box to display the records which match the search criteria."
   ]
  },
  {
   "cell_type": "code",
   "execution_count": null,
   "id": "4db7e54d",
   "metadata": {},
   "outputs": [],
   "source": [
    "from tkinter import *\n",
    "import sqlite3\n",
    "import tkinter.ttk as ttk # new package which is modernise look to the widgets\n",
    "import tkinter.messagebox as tkMessageBox"
   ]
  },
  {
   "cell_type": "code",
   "execution_count": null,
   "id": "b917c8b9",
   "metadata": {},
   "outputs": [],
   "source": [
    "window = Tk()\n",
    "window.title(\"Library Book Management System\")"
   ]
  },
  {
   "cell_type": "code",
   "execution_count": null,
   "id": "8e04d390",
   "metadata": {},
   "outputs": [],
   "source": [
    "# define funciton for CRUD operations\n",
    "#connect to database\n",
    "\n",
    "def connect_database():\n",
    "    global conn,cursor\n",
    "    conn = sqlite3.connect('Books.db')\n",
    "    cursor = conn.cursor()\n",
    "    cursor.execute(\"CREATE TABLE IF NOT EXISTS library(booktitle TEXT ,author TEXT,year TEXT,isbn TEXT)\")\n",
    "    "
   ]
  },
  {
   "cell_type": "code",
   "execution_count": null,
   "id": "424c5fd0",
   "metadata": {},
   "outputs": [],
   "source": [
    "def create():\n",
    "    if BOOKTITLE.get()==\"\" or AUTHOR.get()==\"\" or YEAR.get()==\"\" or ISBN.get()==\"\":\n",
    "        txt_result.config(text = \"Please Enter all the fields\",fg = \"red\")\n",
    "    else:\n",
    "        connect_database()\n",
    "        cursor.execute(\"INSERT INTO library(booktitle,author,year,isbn) VALUES(?,?,?,?)\",(str(BOOKTITLE.get()),str(AUTHOR.get()),str(YEAR.get()),str(ISBN.get())))\n",
    "        conn.commit()\n",
    "        BOOKTITLE.set(\"\")\n",
    "        AUTHOR.set(\"\")\n",
    "        YEAR.set(\"\")\n",
    "        ISBN.set(\"\")\n",
    "        cursor.close()\n",
    "        conn.close()\n",
    "        txt_result.config(text=\"Record Inserted ! \",fg=\"green\") "
   ]
  },
  {
   "cell_type": "code",
   "execution_count": null,
   "id": "3c75f339",
   "metadata": {},
   "outputs": [],
   "source": [
    "def Read():\n",
    "    tree.delete(*tree.get_children())\n",
    "    connect_database()\n",
    "    cursor.execute(\"SELECT * FROM library \")\n",
    "    fetch = cursor.fetchall()\n",
    "    for data in fetch:\n",
    "        tree.insert('','end',values=(data[0],data[1],data[2],data[3]))\n",
    "    cursor.close()\n",
    "    txt_result.config(text=\"Successfully fetched the data !\",fg=\"black\")\n",
    "\n",
    "def Exit():\n",
    "    result = tkMessageBox.askquestion(\"Do you want to exit ? (y/n)\", icon = 'warning')\n",
    "    if result == 'yes':\n",
    "        window.destroy()\n",
    "        \n",
    "def update():\n",
    "    connect_database()\n",
    "    cursor.execute(\"UPDATE library SET booktitle = ? ,author = ?,year = ? where isbn = ?\",(str(BOOKTITLE.get()),str(AUTHOR.get()),str(YEAR.get()),str(ISBN.get())))\n",
    "    conn.commit()\n",
    "    BOOKTITLE.set(\"\")\n",
    "    AUTHOR.set(\"\")\n",
    "    YEAR.set(\"\")\n",
    "    ISBN.set(\"\")\n",
    "    cursor.close()\n",
    "    conn.close()\n",
    "    txt_result.config(text=\"Record Inserted ! \",fg=\"blue\") \n",
    "    \n",
    "def delete():\n",
    "    connect_database()\n",
    "    cursor.execute(\"DELETE from library where isbn = ? \",(str(ISBN.get()),))\n",
    "    conn.commit()\n",
    "    ISBN.set(\"\")\n",
    "    cursor.close()\n",
    "    conn.close()\n",
    "    txt_result.config(text=\"Record has been Deleted***\",fg=\"red\")\n"
   ]
  },
  {
   "cell_type": "code",
   "execution_count": null,
   "id": "a2683085",
   "metadata": {},
   "outputs": [],
   "source": [
    "# Variable declaration\n",
    "BOOKTITLE = StringVar()\n",
    "AUTHOR = StringVar()\n",
    "YEAR = StringVar()\n",
    "ISBN = StringVar()"
   ]
  },
  {
   "cell_type": "code",
   "execution_count": null,
   "id": "6d8af87b",
   "metadata": {},
   "outputs": [],
   "source": [
    "# FRAME\n",
    "\n",
    "Top = Frame(window , width = 900,height = 50,bd = 8 ,relief = 'raise')\n",
    "Top.pack(side = TOP)\n",
    "\n",
    "Left  = Frame(window , width = 300,height = 500,bd = 8 ,relief = 'raise')\n",
    "Left.pack(side= LEFT)\n",
    "\n",
    "Right  = Frame(window , width = 600,height = 500,bd = 8 ,relief = 'raise')\n",
    "Right.pack(side= RIGHT)\n",
    "\n",
    "Forms = Frame(Left,width = 300, height =450)\n",
    "Forms.pack(side = TOP)\n",
    "\n",
    "Buttons = Frame(Left,width = 300,height = 100,bd = 8,relief = 'raise')\n",
    "Buttons.pack(side = BOTTOM)"
   ]
  },
  {
   "cell_type": "code",
   "execution_count": null,
   "id": "c5536353",
   "metadata": {},
   "outputs": [],
   "source": [
    "# label widgets\n",
    "\n",
    "txt_title = Label(Top,width = 300,font = ('arial',18),text = 'Library Book Management System')\n",
    "txt_title.pack()\n",
    "\n",
    "txt_booktitle = Label(Forms,text = \"booktitle:\",font = ('arial',16),bd = 15)\n",
    "txt_booktitle.grid(row = 0,stick = \"e\")\n",
    "\n",
    "txt_author = Label(Forms,text = \"author:\",font = ('arial',16),bd = 15)\n",
    "txt_author.grid(row = 1,stick = \"e\")\n",
    "\n",
    "txt_year = Label(Forms,text = \"year:\",font = ('arial',16),bd = 15)\n",
    "txt_year.grid(row = 2,stick = \"e\")\n",
    "\n",
    "txt_isbn = Label(Forms,text = \"isbn:\",font = ('arial',16),bd = 15)\n",
    "txt_isbn.grid(row = 3,stick = \"e\")\n",
    "\n",
    "txt_result = Label(Buttons)\n",
    "txt_result.pack(side=TOP)"
   ]
  },
  {
   "cell_type": "code",
   "execution_count": null,
   "id": "10ac4a5a",
   "metadata": {},
   "outputs": [],
   "source": [
    "# ENTRY WIDGETS\n",
    "\n",
    "booktitle = Entry(Forms,textvariable = BOOKTITLE,width = 30)\n",
    "booktitle.grid(row=0,column = 1)\n",
    "\n",
    "author = Entry(Forms,textvariable = AUTHOR,width = 30)\n",
    "author.grid(row=1,column = 1)\n",
    "\n",
    "year = Entry(Forms,textvariable = YEAR,width = 30)\n",
    "year.grid(row=2,column = 1)\n",
    "\n",
    "isbn = Entry(Forms,textvariable = ISBN,width = 30)\n",
    "isbn.grid(row=3,column = 1)"
   ]
  },
  {
   "cell_type": "code",
   "execution_count": null,
   "id": "354e0e00",
   "metadata": {},
   "outputs": [],
   "source": [
    "# BUtton WIDGETS\n",
    "\n",
    "btn_create = Button(Buttons,width = 10,text = \"Create\",command = create)\n",
    "btn_create.pack(side=LEFT)\n",
    "\n",
    "btn_read = Button(Buttons,width = 10,text = \"Read\",command = Read)\n",
    "btn_read.pack(side=LEFT)\n",
    "\n",
    "btn_update = Button(Buttons,width = 10,text = \"Update\",command = update)\n",
    "btn_update.pack(side=LEFT)\n",
    "\n",
    "btn_delete = Button(Buttons,width = 10,text = \"Delete\",command = delete)\n",
    "btn_delete.pack(side=LEFT)\n",
    "\n",
    "btn_exit = Button(Buttons,width = 10,text = \"Exit\",command = Exit)\n",
    "btn_exit.pack(side=LEFT)"
   ]
  },
  {
   "cell_type": "code",
   "execution_count": null,
   "id": "ac112aee",
   "metadata": {},
   "outputs": [],
   "source": [
    "# list widget\n",
    "\n",
    "scrollbary = Scrollbar(Right,orient= VERTICAL)\n",
    "scrollbarx = Scrollbar(Right,orient= HORIZONTAL)\n",
    "\n",
    "tree = ttk.Treeview(Right,column=(\"Booktitle\",\"Author\",\"Year\",\"Isbn\"))\n",
    "\n",
    "scrollbary.config(command=tree.yview)\n",
    "scrollbary.pack(side=RIGHT,fill=Y)\n",
    "scrollbarx.config(command=tree.xview)\n",
    "scrollbarx.pack(side=BOTTOM,fill=X)\n",
    "\n",
    "tree.heading('Booktitle',text=\"Booktitle\",anchor=W)\n",
    "tree.heading('Author',text=\"Author\",anchor=W)\n",
    "tree.heading('Year',text=\"Year\",anchor=W)\n",
    "tree.heading('Isbn',text=\"Isbn\",anchor=W)\n",
    "\n",
    "tree.column('#0',stretch = NO,minwidth =0,width =0)\n",
    "tree.column('#1',stretch = NO,minwidth =0,width =80)\n",
    "tree.column('#2',stretch = NO,minwidth =0,width =120)\n",
    "tree.column('#3',stretch = NO,minwidth =0,width =80)\n",
    "tree.pack()\n"
   ]
  },
  {
   "cell_type": "code",
   "execution_count": null,
   "id": "9d712161",
   "metadata": {},
   "outputs": [],
   "source": [
    "# Initialization\n",
    "\n",
    "if __name__ == '__main__':\n",
    "    window.mainloop()"
   ]
  },
  {
   "cell_type": "code",
   "execution_count": null,
   "id": "74bacf1f",
   "metadata": {},
   "outputs": [],
   "source": []
  },
  {
   "cell_type": "raw",
   "id": "0dad4788",
   "metadata": {},
   "source": []
  }
 ],
 "metadata": {
  "kernelspec": {
   "display_name": "Python 3 (ipykernel)",
   "language": "python",
   "name": "python3"
  },
  "language_info": {
   "codemirror_mode": {
    "name": "ipython",
    "version": 3
   },
   "file_extension": ".py",
   "mimetype": "text/x-python",
   "name": "python",
   "nbconvert_exporter": "python",
   "pygments_lexer": "ipython3",
   "version": "3.10.9"
  }
 },
 "nbformat": 4,
 "nbformat_minor": 5
}
